{
 "cells": [
  {
   "cell_type": "markdown",
   "id": "429ed42d",
   "metadata": {},
   "source": [
    "# Run the ./app with different parameters"
   ]
  },
  {
   "cell_type": "code",
   "execution_count": 1,
   "id": "32fcebce",
   "metadata": {},
   "outputs": [],
   "source": [
    "import os\n",
    "dims = [100000*2**i for i in range(11)] + [160000000]\n",
    "ks = [0.001, 0.01, 0.1, 1000, 10000, 100000]"
   ]
  },
  {
   "cell_type": "code",
   "execution_count": 2,
   "id": "1506eb10",
   "metadata": {},
   "outputs": [
    {
     "data": {
      "text/plain": [
       "0"
      ]
     },
     "execution_count": 2,
     "metadata": {},
     "output_type": "execute_result"
    }
   ],
   "source": [
    "os.system(\"make clean\")\n",
    "os.system(\"make -j4\")"
   ]
  },
  {
   "cell_type": "code",
   "execution_count": null,
   "id": "e9f424a9",
   "metadata": {},
   "outputs": [
    {
     "name": "stdout",
     "output_type": "stream",
     "text": [
      "./app 100000 0.001 >> 100000_0.001.out\n"
     ]
    }
   ],
   "source": [
    "for dim in dims:\n",
    "    for k in ks:\n",
    "        cmd = \"./app \"+str(dim)+\" \"+str(k)+\" >> \"+str(dim)+\"_\"+str(k)+\".out\"\n",
    "        print(cmd)\n",
    "        if dim>100000000 and abs(k-0.1)<1e-3:\n",
    "            times = 50\n",
    "        else:\n",
    "            times = 100\n",
    "        for t in range(times):\n",
    "            os.system(cmd)\n",
    "        print(\"\\tcompleted\")"
   ]
  },
  {
   "cell_type": "markdown",
   "id": "4f4b37c6",
   "metadata": {},
   "source": [
    "# Plot graphs"
   ]
  },
  {
   "cell_type": "code",
   "execution_count": null,
   "id": "53d69da1",
   "metadata": {},
   "outputs": [],
   "source": [
    "for dim in dims:\n",
    "    for k in ks:\n",
    "        filename = str(dim)+\"_\"+str(k)+\".out\""
   ]
  },
  {
   "cell_type": "code",
   "execution_count": null,
   "id": "4bf463d5",
   "metadata": {},
   "outputs": [],
   "source": []
  }
 ],
 "metadata": {
  "kernelspec": {
   "display_name": "Python 3",
   "language": "python",
   "name": "python3"
  },
  "language_info": {
   "codemirror_mode": {
    "name": "ipython",
    "version": 3
   },
   "file_extension": ".py",
   "mimetype": "text/x-python",
   "name": "python",
   "nbconvert_exporter": "python",
   "pygments_lexer": "ipython3",
   "version": "3.6.9"
  }
 },
 "nbformat": 4,
 "nbformat_minor": 5
}
